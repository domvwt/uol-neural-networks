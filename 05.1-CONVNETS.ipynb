{
 "cells": [
  {
   "cell_type": "markdown",
   "metadata": {},
   "source": [
    "# MNIST"
   ]
  },
  {
   "cell_type": "markdown",
   "metadata": {},
   "source": [
    "1. Copy DLWP Listings 5.1-5.3 in an notebook\n",
    "\n",
    "2. Experiment with moving/adding convolutional layers, and the number of filters and the size of the local receptive field"
   ]
  },
  {
   "cell_type": "markdown",
   "metadata": {},
   "source": [
    "# Fashion MNIST"
   ]
  },
  {
   "cell_type": "markdown",
   "metadata": {},
   "source": [
    "\n",
    "1. The Fashion MNIST dataset is a multiclass image classification task. Follow the MNIST pattern and download the dataset from Tensorflow. \n",
    "\n",
    "2. Explore the data: what is the shape and size of the training and test data? Take one of the training images and display it with `matplotlib.pyplot`\n",
    "\n",
    "3. Split the training set into a partial training set and a validation set. Reshape the partial training, validation and test sets and convert to floats in the range [0, 1].\n",
    "\n",
    "4. Build a model similar to Listings 5.1 and 5.2. Print a summary of the model.\n",
    "\n",
    "5. Compile and run the model for 20 epochs. Plot graphs, find the optimum epochs, retrain a newly initialised model on the whole training set and then evaluate the model on the test test. Regularise your model if you see overfitting. What accuracy does your model achieve? \n",
    "\n",
    "6. Have a look at the model's prediction on some test images by running this matplotlib code:"
   ]
  },
  {
   "cell_type": "code",
   "execution_count": null,
   "metadata": {},
   "outputs": [],
   "source": [
    "# Reference:\n",
    "# https://colab.research.google.com/github/margaretmz/deep-learning/blob/master/fashion_mnist_keras.ipynb#scrollTo=oJv7XEk10bOv\n",
    "\n",
    "preds = model.predict(test_images)\n",
    "# Plot a random sample of 10 test images, their predicted labels and ground truth\n",
    "figure = plt.figure(figsize=(20, 8))\n",
    "for i, index in enumerate(np.random.choice(test_images.shape[0], size=15, replace=False)):\n",
    "    ax = figure.add_subplot(3, 5, i + 1, xticks=[], yticks=[])\n",
    "    # Display each image\n",
    "    ax.imshow(np.squeeze(test_images[index]))\n",
    "    predict_index = np.argmax(preds[index])\n",
    "    true_index = np.argmax(test_labels[index])\n",
    "    # Set the title for each image\n",
    "    ax.set_title(\"{} ({})\".format(class_names[predict_index], \n",
    "                                  class_names[true_index]),\n",
    "                                  color=(\"green\" if predict_index == true_index else \"red\"))"
   ]
  },
  {
   "cell_type": "markdown",
   "metadata": {},
   "source": [
    "7. Experiment with different convolutional bases. For example, remove pooling, add more convolutional layers, resize the layers etc. "
   ]
  }
 ],
 "metadata": {
  "kernelspec": {
   "display_name": "Python 3",
   "language": "python",
   "name": "python3"
  },
  "language_info": {
   "codemirror_mode": {
    "name": "ipython",
    "version": 3
   },
   "file_extension": ".py",
   "mimetype": "text/x-python",
   "name": "python",
   "nbconvert_exporter": "python",
   "pygments_lexer": "ipython3",
   "version": "3.8.5"
  }
 },
 "nbformat": 4,
 "nbformat_minor": 2
}
